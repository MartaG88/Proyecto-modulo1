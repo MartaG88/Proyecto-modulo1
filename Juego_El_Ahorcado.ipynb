{
 "cells": [
  {
   "cell_type": "code",
   "execution_count": 5,
   "metadata": {},
   "outputs": [
    {
     "name": "stdout",
     "output_type": "stream",
     "text": [
      "¡Bienvenido al juego del Ahorcado!\n",
      "Palabra:  _ _ _ _ _ _\n",
      "Letras adivinadas: \n",
      "Intentos restantes: 6\n",
      "Palabra: a _a _a _\n",
      "Letras adivinadas: a\n",
      "Intentos restantes: 6\n",
      "Palabra: a _a _a _\n",
      "Letras adivinadas: a, n\n",
      "Intentos restantes: 5\n",
      "Palabra: ada _a _\n",
      "Letras adivinadas: a, d, n\n",
      "Intentos restantes: 5\n",
      "Palabra: adala _\n",
      "Letras adivinadas: l, a, d, n\n",
      "Intentos restantes: 5\n",
      "Ya has adivinado esa letra. Intenta con otra.\n",
      "Palabra: adala _\n",
      "Letras adivinadas: l, a, d, n\n",
      "Intentos restantes: 5\n",
      "¡Felicidades! Has adivinado la palabra: adalab\n",
      "¡Se te acabaron los intentos! La palabra era: adalab\n"
     ]
    }
   ],
   "source": [
    "import random\n",
    "\n",
    "# Creamos lista de palabras\n",
    "\n",
    "palabras = ['analista', 'datos', 'adalab', 'proyecto']\n",
    "\n",
    "# Usamos random para elegir una palabra al azar\n",
    "\n",
    "palabra = random.choice(palabras)\n",
    "\n",
    "# Usamos set() para llevar un registro de las letras que ya se han adivinado\n",
    "# Set(): función se utiliza para crear un conjunto (set) de elementos únicos, lo que significa que no puede contener duplicados (tema Tuplas).\n",
    "\n",
    "letras_adivinadas = set()\n",
    "intentos = 6\n",
    "\n",
    "print(\"¡Bienvenido al juego del Ahorcado!\")\n",
    "\n",
    "# Creamos el Bucle (Significa que el bucle while continúa mientras el número de intentos sea mayor que cero)\n",
    "# Mostramos la palabra a medida que se va adivinando una letra\n",
    "# La función join() une todos los elementos de la lista en una sola cadena, utilizando un espacio (' ') como separador (tema Strings)\n",
    "# Pedimos una letra. Colocamos lower() para convertir a minúsculas (tema Strings)\n",
    "\n",
    "while intentos > 0:\n",
    "    estado_palabra = ''.join(letra if letra in letras_adivinadas else ' _' for letra in palabra)\n",
    "    print(\"Palabra:\", estado_palabra)\n",
    "    print(\"Letras adivinadas:\", ', '.join(letras_adivinadas))\n",
    "    print(\"Intentos restantes:\", intentos)\n",
    "    \n",
    "    letra = input(\"Adivina una letra: \").lower()\n",
    "\n",
    "    if letra in letras_adivinadas:\n",
    "        print(\"Ya has adivinado esa letra. Intenta ingresar otra.\")\n",
    "    else:\n",
    "        letras_adivinadas.add(letra)\n",
    "        if letra not in palabra:\n",
    "            intentos -= 1\n",
    "        \n",
    "        if all(letra in letras_adivinadas for letra in palabra):\n",
    "            print(f\"¡Felicidades! Has adivinado la palabra: {palabra}\")\n",
    "            break\n",
    "\n",
    "print(f\"Ya no tienes más intentos. La palabra era: {palabra}\")\n"
   ]
  },
  {
   "cell_type": "markdown",
   "metadata": {},
   "source": [
    "\n",
    "    # Colocamos una condición para comprobar si la letra ya fue adivinada\n",
    "    # Con el operador in comprobamos si un elemento está presente en un conjunto. Devuelve True si el elemento está presente y False si no lo está.\n",
    "   \n",
    "    # Colocamos un else y solo se ejecuta si la condición anterior es falsa, o sea, si la letra ingresada no ha sido adivinada previamente.\n",
    "    # Como el conjunto set() no permite duplicados, entonces usamos .add para agregar un nuevo elemento a un conjunto\n",
    "  \n",
    "        # Colocamos una condición para comprobar si la letra está en la palabra\n",
    "        # Colocamos -= 1 para reducir el valor de intentos en 1.\n",
    "\n",
    "        # Usamos all() para verificar si todos los elementos del conjunto son verdaderos. all() devuelve True\n",
    "        # Usamos break para salir del bucle. En cuanto se adivine la palabra no es necesario seguir ejecutando el bucle."
   ]
  },
  {
   "cell_type": "markdown",
   "metadata": {},
   "source": [
    "\n",
    "EXPLICACIÓN CÓDIGO: \n",
    "\n",
    " estado_palabra = ''.join(letra if letra in letras_adivinadas else ' _' for letra in palabra)\n",
    " \n",
    "letra: Este es el valor que se devolverá si la condición es verdadera. ES la letra actual que se está evaluando.\n",
    "\n",
    "if letra in letras_adivinadas: Aquí se verifica si la letra actual (letra) está en la lista o conjunto de letras que han sido adivinadas(letras_adivinadas). Si la letra está en letras_adivinadas, la condición es verdadera.\n",
    "\n",
    "else ' _': Este es el valor que se devolverá si la condición es falsa. En este caso, se devuelve ' _', que es un espacio seguido de un guion bajo, indicando que la letra no ha sido adivinada."
   ]
  }
 ],
 "metadata": {
  "kernelspec": {
   "display_name": "Python 3",
   "language": "python",
   "name": "python3"
  },
  "language_info": {
   "codemirror_mode": {
    "name": "ipython",
    "version": 3
   },
   "file_extension": ".py",
   "mimetype": "text/x-python",
   "name": "python",
   "nbconvert_exporter": "python",
   "pygments_lexer": "ipython3",
   "version": "3.12.6"
  }
 },
 "nbformat": 4,
 "nbformat_minor": 2
}
