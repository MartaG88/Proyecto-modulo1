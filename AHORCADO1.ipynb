{
 "cells": [
  {
   "cell_type": "code",
   "execution_count": null,
   "metadata": {},
   "outputs": [],
   "source": [
    "#1-Definir una lista de  palabras posibles para el juego\n",
    "#2-Selecionar aleatoriamente una palabra de la lista y guardarla como \"palabra secreta\"\n",
    "#3-Crea una lista vacia llamada \"palabra adivinada\" con _ que represente cada letra de la palabra.\n",
    "#4-definir una varible que sea \"intentos\"(por ejemplo,6)\n",
    "#5-definir una lista vacia llamada \"letras adivinadas2, aqui almacenams \"letras adivinadas\" por el usuario\n",
    "#6-Mientras \"intentos\" sea mayor que 0 y \"palabra adivinada\" contenga \"_\" :\n",
    "        # 7-mostrar palabra adivinada hasta ahora (letras correctas y guiones bajos)\n",
    "        # 8-mostrar numero de \"intentos\" restantes\n",
    "        # 9- pedir al usuario que ingrese una letra\n",
    "        # 10-SI la letra ingresada esta  en \"letras adivinadas\"\n",
    "            # 11-(mostrar mensaje que ya intento esa letra antes)  \n",
    "        # 12-Si la letra ingresada No esta el la \"palabra secreta\":\n",
    "\n",
    "            #13-restar 1 a \"intentos\"\n",
    "            #14-mostrar mensaje que la letra no esta en la palabra\n",
    "            #15-Añadir la letra a \"letras adivinadas\"\n",
    "        #16-Si la letra ingresada esta el la \"palabra secreta\":\n",
    "\n",
    "            #17_mostrar mensaje que diga que acerto la letra\n",
    "            #18-reemplazar los guines bajos poen \"lpalabra adivinada\" con letra acertada (correcta)\n",
    "            #19-añadir letra a \"letras adivinada\"\n",
    "#20-Si, \"palabra adivinada\" es a palabra secreta: mostrar mensaje GANASTE\n",
    "#21-Si \"intentos\"llega a 0: mostrar mesaje de PERDISTE , LA PALABRA SECRETA ERA...(PALABRA)\n"
   ]
  },
  {
   "cell_type": "code",
   "execution_count": 1,
   "metadata": {},
   "outputs": [],
   "source": [
    "import random"
   ]
  },
  {
   "cell_type": "code",
   "execution_count": 2,
   "metadata": {},
   "outputs": [],
   "source": [
    "#listamos las palabras para el juego\n",
    "palabras =[\"programacion\", \"caballo\",\" tabulador\", \"variable\", \"bucle\", \"espectacular\", \"deshodorante\"]\n"
   ]
  },
  {
   "cell_type": "code",
   "execution_count": 3,
   "metadata": {},
   "outputs": [
    {
     "name": "stdout",
     "output_type": "stream",
     "text": [
      "Bienvenido al juego del AHORCADO\n",
      "Intenta adivinar la palabra antes de que se acaben tus intentos\n"
     ]
    }
   ],
   "source": [
    "#configuracion del juego parte inicial\n",
    "print(\"Bienvenido al juego del AHORCADO\")\n",
    "print(\"Intenta adivinar la palabra antes de que se acaben tus intentos\")"
   ]
  },
  {
   "cell_type": "code",
   "execution_count": 7,
   "metadata": {},
   "outputs": [
    {
     "name": "stdout",
     "output_type": "stream",
     "text": [
      " tabulador\n"
     ]
    }
   ],
   "source": [
    "#elige una palabra secreta\n",
    "palabra_secreta = random.choice(palabras) #(random.choice)seleccionar elemento aleatorio de una secuencia.\n",
    "print(palabra_secreta)"
   ]
  },
  {
   "cell_type": "code",
   "execution_count": 16,
   "metadata": {},
   "outputs": [
    {
     "name": "stdout",
     "output_type": "stream",
     "text": [
      " __ __ __ __ __ __ __ __ __ __\n"
     ]
    }
   ],
   "source": [
    "#Crea la palabra oculta con \"_\"\n",
    "letras_adivinadas = \" __\" * len(palabra_secreta)\n",
    "print(letras_adivinadas)"
   ]
  },
  {
   "cell_type": "code",
   "execution_count": null,
   "metadata": {},
   "outputs": [],
   "source": [
    "#pedir al usuario el nuemro de intentos\n",
    "intentos =input(\"cuantos intentos quieres tener (por defecto son 6):\")"
   ]
  },
  {
   "cell_type": "code",
   "execution_count": null,
   "metadata": {},
   "outputs": [],
   "source": []
  },
  {
   "cell_type": "code",
   "execution_count": null,
   "metadata": {},
   "outputs": [],
   "source": []
  },
  {
   "cell_type": "code",
   "execution_count": null,
   "metadata": {},
   "outputs": [],
   "source": []
  }
 ],
 "metadata": {
  "kernelspec": {
   "display_name": "base",
   "language": "python",
   "name": "python3"
  },
  "language_info": {
   "codemirror_mode": {
    "name": "ipython",
    "version": 3
   },
   "file_extension": ".py",
   "mimetype": "text/x-python",
   "name": "python",
   "nbconvert_exporter": "python",
   "pygments_lexer": "ipython3",
   "version": "3.11.7"
  }
 },
 "nbformat": 4,
 "nbformat_minor": 2
}
