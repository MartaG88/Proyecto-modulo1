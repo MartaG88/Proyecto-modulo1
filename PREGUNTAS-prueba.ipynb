{
 "cells": [
  {
   "cell_type": "code",
   "execution_count": 10,
   "metadata": {},
   "outputs": [],
   "source": [
    "preguntas_geografia = {\n",
    "    \"¿Qué país es conocido por su tradicional danza del tango?\": [\"Argentina\", \"Italia\", \"México\", \"España\"],\n",
    "    \"¿Qué país es famoso por la construcción de las pirámides antiguas?\": [\"Egipto\", \"México\", \"Perú\", \"India\"],\n",
    "    \"¿En qué continente se encuentra Australia?\": [\"Oceanía\", \"Asia\", \"Europa\", \"América del Norte\"],\n",
    "    \"¿Qué país es conocido por su comida picante y su celebración del Día de Muertos?\": [\"México\", \"India\", \"Tailandia\", \"Perú\"],\n",
    "    \"¿En qué ciudad se encuentra el Coliseo?\": [\"Roma\", \"Atenas\", \"París\", \"Londres\"],\n",
    "    \"¿Qué país asiático es famoso por sus templos budistas y su gastronomía callejera?\": [\"Tailandia\", \"Japón\", \"Vietnam\", \"India\"],\n",
    "    \"¿Qué país es famoso por sus castillos medievales y por haber inspirado muchos cuentos de hadas?\": [\"Alemania\", \"Francia\", \"Reino Unido\", \"Italia\"],\n",
    "    \"¿Cuál es la capital de España?\": [\"Madrid\", \"Barcelona\", \"Sevilla\", \"Valencia\"],\n",
    "    \"¿Qué país es conocido por la samba y por albergar el carnaval más grande del mundo?\": [\"Brasil\", \"Argentina\", \"Cuba\", \"Colombia\"],\n",
    "    \"¿Qué país es famoso por la Torre Eiffel?\": [\"Francia\", \"Italia\", \"Reino Unido\", \"Alemania\"],\n",
    "    \"¿Qué isla caribeña es famosa por el reggae y el legado de Bob Marley?\": [\"Jamaica\", \"Puerto Rico\", \"Cuba\", \"República Dominicana\"],\n",
    "    \"¿En qué país se encuentra el monte Kilimanjaro?\": [\"Tanzania\", \"Kenia\", \"Sudáfrica\", \"Etiopía\"],\n",
    "    \"¿Qué país es conocido por la ópera de Sídney?\": [\"Australia\", \"Estados Unidos\", \"Reino Unido\", \"Nueva Zelanda\"],\n",
    "    \"¿Qué país africano tiene el Parque Nacional Serengeti, famoso por sus safaris?\": [\"Tanzania\", \"Sudáfrica\", \"Kenia\", \"Botsuana\"],\n",
    "    \"¿Qué país sudamericano es conocido por el Amazonas y el carnaval de Río?\": [\"Brasil\", \"Perú\", \"Colombia\", \"Argentina\"],\n",
    "    \"¿Cuál es el país más pequeño del mundo?\": [\"Ciudad del Vaticano\", \"Mónaco\", \"San Marino\", \"Malta\"],\n",
    "    \"¿Qué país europeo es conocido por sus chocolates y relojes de precisión?\": [\"Suiza\", \"Bélgica\", \"Alemania\", \"Austria\"],\n",
    "    \"¿Qué país asiático es famoso por el anime y el sushi?\": [\"Japón\", \"China\", \"Corea del Sur\", \"Tailandia\"],\n",
    "    \"¿En qué país se celebran las famosas festividades de la Tomatina?\": [\"España\", \"México\", \"Italia\", \"Francia\"],\n",
    "    \"¿Qué país es conocido por sus bailes de salsa y café?\": [\"Colombia\", \"Cuba\", \"Puerto Rico\", \"Brasil\"],\n",
    "    \"¿Qué país del Medio Oriente es conocido por el desierto y su gran producción de petróleo?\": [\"Arabia Saudita\", \"Irak\", \"Irán\", \"Kuwait\"],\n",
    "    \"¿Qué país tiene como símbolo cultural el Taj Mahal?\": [\"India\", \"Pakistán\", \"Irán\", \"Bangladés\"],\n",
    "    \"¿Qué país africano tiene el mayor número de pirámides en el mundo?\": [\"Sudán\", \"Egipto\", \"Libia\", \"Etiopía\"],\n",
    "    \"¿Qué país es conocido por el festival de cine de Cannes?\": [\"Francia\", \"Italia\", \"Estados Unidos\", \"Reino Unido\"],\n",
    "    \"¿Qué país alberga el famoso templo de Angkor Wat?\": [\"Camboya\", \"Tailandia\", \"Laos\", \"Vietnam\"],\n",
    "    \"¿Qué país sudamericano es conocido por Machu Picchu, una de las maravillas del mundo?\": [\"Perú\", \"Chile\", \"Bolivia\", \"Ecuador\"],\n",
    "    \"¿Qué país tiene una famosa historia de invasiones vikingas y es conocido por sus fiordos?\": [\"Noruega\", \"Suecia\", \"Dinamarca\", \"Finlandia\"],\n",
    "    \"¿Qué país asiático es famoso por sus rascacielos y la antigua Ciudad Prohibida?\": [\"China\", \"Japón\", \"Corea del Sur\", \"Tailandia\"],\n",
    "    \"¿En qué país sudamericano se encuentra el Salar de Uyuni, el mayor desierto de sal del mundo?\": [\"Bolivia\", \"Chile\", \"Argentina\", \"Brasil\"],\n",
    "    \"¿Qué país europeo es famoso por sus molinos de viento y canales?\": [\"Países Bajos (Holanda)\", \"Bélgica\", \"Francia\", \"Alemania\"],\n",
    "    \"¿En qué país africano se celebra el Carnaval de Mindelo, conocido por su vibrante cultura afro-brasileña?\": [\"Cabo Verde\", \"Angola\", \"Mozambique\", \"Guinea-Bisáu\"],\n",
    "    \"¿Qué país africano celebra la fiesta del Gule Wamkulu, una danza tradicional de los chewa?\": [\"Malaui\", \"Zambia\", \"Zimbabue\", \"Tanzania\"],\n",
    "    \"¿Qué mar separa Europa de África?\": [\"Mar Mediterráneo\", \"Mar Rojo\", \"Mar Egeo\", \"Mar Negro\"],\n",
    "    \"¿Qué ciudad alberga la sede de las Naciones Unidas?\": [\"Nueva York\", \"Ginebra\", \"Viena\", \"Bruselas\"],\n",
    "    \"¿Cuál es la capital de la Unión Europea?\": [\"Bruselas\", \"Estrasburgo\", \"Berlín\", \"París\"],\n",
    "    \"¿Qué estrecho separa Europa de Asia en Turquía?\": [\"Estrecho de Bósforo\", \"Estrecho de Gibraltar\", \"Estrecho de Malaca\", \"Estrecho de Dardanelos\"],\n",
    "    \"¿Qué ciudad es considerada la capital financiera de Europa?\": [\"Londres\", \"Fráncfort\", \"París\", \"Zúrich\"],\n",
    "    \"¿Qué país es el principal exportador de trigo del mundo?\": [\"Rusia\", \"Estados Unidos\", \"Canadá\", \"China\"],\n",
    "    \"¿Cuál fue el proceso mediante el cual el Reino Unido dejó la Unión Europea?\": [\"El brexit\", \"La Commonwealth\", \"La OTAN\", \"El Acuerdo de Lisboa\"],\n",
    "    \"¿Qué archipiélago del Atlántico es objeto de disputa territorial entre España y Marruecos?\": [\"Islas Canarias\", \"Islas Baleares\", \"Islas Azores\", \"Cabo Verde\"]\n",
    "}\n"
   ]
  },
  {
   "cell_type": "code",
   "execution_count": 2,
   "metadata": {},
   "outputs": [],
   "source": [
    "import random\n",
    "\n",
    "#key = pregunta \n",
    "#value = respuesta\n",
    "#if respuesta == value "
   ]
  },
  {
   "cell_type": "markdown",
   "metadata": {},
   "source": [
    "OTRA FORMA DE GESTIONAR QUE DICCIONARIO NO TENGA UN ORDEN DEFINIDO Y QUERAMOS UNA KEY ALEATORIA:\n",
    "(por cortesía de chatgpt)\n",
    "random.sample() toma cualquier iterable (como preguntas_respuestas.keys()) y selecciona un número específico de elementos al azar. Aquí, seleccionamos 1 (random.sample(preguntas_respuestas.keys(), 1)), y luego accedemos al primer (y único) elemento de la lista resultante con [0].\n",
    "pregunta_aleatoria = random.sample(preguntas_respuestas.keys(), 1)[0]\n",
    "\n",
    "Personalmente me siento más cómoda con la elección, pero todo es negoci"
   ]
  },
  {
   "cell_type": "code",
   "execution_count": null,
   "metadata": {},
   "outputs": [],
   "source": [
    "#creamos la variable pregunta para que elija una opcicón aleatoria entre las 'keys' del diccionario de 'preguntas_geografia'\n",
    "#el diccionario se convierte en lista porque un diccionario no tiene un orden definido, por lo que convertirlo en lista hace que podamos acceder a 'keys' \n",
    "pregunta = random.choice(list(preguntas_geografia.keys()))\n",
    "\n",
    "#imprimimos 'pregunta3\n",
    "print(pregunta) \n",
    "\n",
    "#input para responder a 'pregunta' -recordemos que está configurada para que sea aleatoria-\n",
    "respuesta = input(f'Responde a la siguiente pregunta: {pregunta}')\n",
    "\n",
    "#imprimimos respuesta\n",
    "print(respuesta)\n",
    "\n",
    "fallos = 3\n",
    "victorias = 0\n",
    "\n",
    "\n"
   ]
  },
  {
   "cell_type": "markdown",
   "metadata": {},
   "source": [
    "CÓDIGO CORRECTO:\n",
    "letras_opciones = ['A','B','C','D'] #lista para las opciones\n",
    "fallos = 3\n",
    "victorias = 0\n",
    "for pregunta, opciones in preguntas_geografia.items():\n",
    "    respuesta_correcta = opciones[0] #porque nosotras sabemos que la correcta es la primera\n",
    "    random.shuffle(opciones) #para que las respuestas aparezcan en orden aleatorio\n",
    "    print(pregunta)\n",
    "    for x in range(4): #range(4) porque cuatro especifíca el número de respuestas que queremos imprimir\n",
    "        print(letras_opciones[x], opciones[x])\n",
    "    respuesta_user = input('Selecciona la letra de tu respuesta').upper()\n",
    "    seleccion_user = letras_opciones.index(respuesta_user)\n",
    "    if opciones[seleccion_user] == respuesta_correcta:\n",
    "        victorias += 1\n",
    "        print('¡Correcto! Sigue así')\n",
    "    else:\n",
    "        fallos -= 1\n",
    "        print(f'Fallaste. La respuesta correcta es {respuesta_correcta}')"
   ]
  },
  {
   "cell_type": "code",
   "execution_count": null,
   "metadata": {},
   "outputs": [],
   "source": [
    "preguntas_geografia.keys()\n",
    "#ahora viene lo divertido: while \n",
    "while fallos != 3:\n",
    "#ME HE ATASCADO!!!!\n",
    "    if respuesta is True:"
   ]
  },
  {
   "cell_type": "code",
   "execution_count": null,
   "metadata": {},
   "outputs": [],
   "source": [
    "#while fallos != 3\n",
    "#registro de intentos \n",
    "#cómo imprimir la pregunta que haga? X\n",
    "#si falla se suma intentos; si acierta y tiene menos de 5 victorias, continúa preguntando y se suma una victoria, cuando llegue a cinco se hace un break; si \n",
    "\n",
    "random.choice(list(preguntas_respuestas.keys()))"
   ]
  },
  {
   "cell_type": "code",
   "execution_count": null,
   "metadata": {},
   "outputs": [],
   "source": []
  },
  {
   "cell_type": "code",
   "execution_count": null,
   "metadata": {},
   "outputs": [],
   "source": [
    "#qué tal si el PPT se aplica un diccionario donde value == respuesta es 'empate'\n",
    "#se podría hacer un if respuesta = key 'gana maquina'"
   ]
  },
  {
   "cell_type": "markdown",
   "metadata": {},
   "source": [
    "*CREACIÓN DE CLASES*"
   ]
  },
  {
   "cell_type": "code",
   "execution_count": 3,
   "metadata": {},
   "outputs": [],
   "source": [
    "class Preguntas:\n",
    "    pass"
   ]
  },
  {
   "cell_type": "code",
   "execution_count": 13,
   "metadata": {},
   "outputs": [],
   "source": [
    "class Preguntas:\n",
    "\n",
    "    def __init__(self,preguntas, opciones):\n",
    "        self.preguntas = preguntas\n",
    "        self.opciones = opciones\n",
    "        self.opcion_correcta = True\n",
    "    \n",
    "    def informacion(self):\n",
    "        print(f'preguntas {self.preguntas},{self.opciones},{self.opcion_correcta}')\n",
    "\n",
    "\n",
    "\n"
   ]
  },
  {
   "cell_type": "code",
   "execution_count": 7,
   "metadata": {},
   "outputs": [],
   "source": [
    "#preguntas = diccionario donde están las preguntas y respuestas\n",
    "#opciones = A,B,C,D "
   ]
  },
  {
   "cell_type": "code",
   "execution_count": null,
   "metadata": {},
   "outputs": [],
   "source": [
    "pr = Preguntas('preguntas','respuestas')\n",
    "pr.informacion()\n"
   ]
  },
  {
   "cell_type": "code",
   "execution_count": null,
   "metadata": {},
   "outputs": [],
   "source": []
  }
 ],
 "metadata": {
  "kernelspec": {
   "display_name": "Python 3",
   "language": "python",
   "name": "python3"
  },
  "language_info": {
   "codemirror_mode": {
    "name": "ipython",
    "version": 3
   },
   "file_extension": ".py",
   "mimetype": "text/x-python",
   "name": "python",
   "nbconvert_exporter": "python",
   "pygments_lexer": "ipython3",
   "version": "3.9.6"
  }
 },
 "nbformat": 4,
 "nbformat_minor": 2
}
