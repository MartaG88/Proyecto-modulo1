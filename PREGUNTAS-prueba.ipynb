{
 "cells": [
  {
   "cell_type": "code",
   "execution_count": 3,
   "metadata": {},
   "outputs": [],
   "source": [
    "preguntas_geografia = {\"¿Qué país es conocido por su tradicional danza del tango?\": \"Argentina\",\n",
    "    \"¿Qué país es famoso por la construcción de las pirámides antiguas?\": \"Egipto\",\n",
    "    \"¿En qué continente se encuentra Australia?\": \"Oceanía\",\n",
    "    \"¿Qué país es conocido por su comida picante y su celebración del Día de Muertos?\": \"México\",\n",
    "    \"¿En qué ciudad se encuentra el Coliseo?\": \"Roma\",\n",
    "    \"¿Qué país asiático es famoso por sus templos budistas y su gastronomía callejera?\": \"Tailandia\",\n",
    "    \"¿Qué país es famoso por sus castillos medievales y por haber inspirado muchos cuentos de hadas?\": \"Alemania\",\n",
    "    \"¿Cuál es la capital de España?\": \"Madrid\",\n",
    "    \"¿Qué país es conocido por la samba y por albergar el carnaval más grande del mundo?\": \"Brasil\",\n",
    "    \"¿Qué país es famoso por la Torre Eiffel?\": \"Francia\",\n",
    "    \"¿Qué isla caribeña es famosa por el reggae y el legado de Bob Marley?\": \"Jamaica\",\n",
    "    \"¿En qué país se encuentra el monte Kilimanjaro?\": \"Tanzania\",\n",
    "    \"¿Qué país es conocido por la ópera de Sídney?\": \"Australia\",\n",
    "    \"¿Qué país africano tiene el Parque Nacional Serengeti, famoso por sus safaris?\": \"Tanzania\",\n",
    "    \"¿Qué país sudamericano es conocido por el Amazonas y el carnaval de Río?\": \"Brasil\",\n",
    "    \"¿Cuál es el país más pequeño del mundo?\": \"Ciudad del Vaticano\",\n",
    "    \"¿Qué país europeo es conocido por sus chocolates y relojes de precisión?\": \"Suiza\",\n",
    "    \"¿Qué país asiático es famoso por el anime y el sushi?\": \"Japón\",\n",
    "    \"¿En qué país se celebran las famosas festividades de la Tomatina?\": \"España\",\n",
    "    \"¿Qué país es conocido por sus bailes de salsa y café?\": \"Colombia\",\n",
    "    \"¿Qué país del Medio Oriente es conocido por el desierto y su gran producción de petróleo?\": \"Arabia Saudita\",\n",
    "    \"¿Qué país tiene como símbolo cultural el Taj Mahal?\": \"India\",\n",
    "    \"¿Qué país africano tiene el mayor número de pirámides en el mundo?\": \"Sudán\",\n",
    "    \"¿Qué país es conocido por el festival de cine de Cannes?\": \"Francia\",\n",
    "    \"¿Qué país alberga el famoso templo de Angkor Wat?\": \"Camboya\",\n",
    "    \"¿Qué país sudamericano es conocido por Machu Picchu, una de las maravillas del mundo?\": \"Perú\",\n",
    "    \"¿Qué país tiene una famosa historia de invasiones vikingas y es conocido por sus fiordos?\": \"Noruega\",\n",
    "    \"¿Qué país asiático es famoso por sus rascacielos y la antigua Ciudad Prohibida?\": \"China\",\n",
    "    \"¿En qué país sudamericano se encuentra el Salar de Uyuni, el mayor desierto de sal del mundo?\": \"Bolivia\",\n",
    "    \"¿Qué país europeo es famoso por sus molinos de viento y canales?\": \"Países Bajos (Holanda)\",\n",
    "    \"¿En qué país africano se celebra el Carnaval de Mindelo, conocido por su vibrante cultura afro-brasileña?\": \"Cabo Verde\",\n",
    "    \"¿Qué país africano celebra la fiesta del Gule Wamkulu, una danza tradicional de los chewa?\": \"Malaui\",\n",
    "    \"¿Qué mar separa Europa de África?\": \"Mar Mediterráneo\",\n",
    "    \"¿Qué ciudad alberga la sede de las Naciones Unidas?\":\"Nueva York\",\n",
    "    \"¿Cuál es la capital de la Unión Europea?\":\"Bruselas\",\n",
    "    \"¿Qué estrecho separa Europa de Asia en Turquía?\":\"Estrecho de Bósforo\",\n",
    "    \"¿Qué ciudad es considerada la capital financiera de Europa?\":\"Londres\",\n",
    "    \"¿Qué país es el principal exportador de trigo del mundo?\":\"Rusia\",\n",
    "    \"¿Cuál fue el proceso mediante el cual el Reino Unido dejó la Unión Europea?\":\"El brexit\",\n",
    "    \"¿Qué archipiélago del Atlántico es objeto de disputa territorial entre España y Marruecos?\":\"Islas Canarias\"}\n"
   ]
  },
  {
   "cell_type": "code",
   "execution_count": 5,
   "metadata": {},
   "outputs": [
    {
     "data": {
      "text/plain": [
       "40"
      ]
     },
     "execution_count": 5,
     "metadata": {},
     "output_type": "execute_result"
    }
   ],
   "source": [
    "len(preguntas_geografia)"
   ]
  }
 ],
 "metadata": {
  "kernelspec": {
   "display_name": "Python 3",
   "language": "python",
   "name": "python3"
  },
  "language_info": {
   "codemirror_mode": {
    "name": "ipython",
    "version": 3
   },
   "file_extension": ".py",
   "mimetype": "text/x-python",
   "name": "python",
   "nbconvert_exporter": "python",
   "pygments_lexer": "ipython3",
   "version": "3.11.7"
  }
 },
 "nbformat": 4,
 "nbformat_minor": 2
}
