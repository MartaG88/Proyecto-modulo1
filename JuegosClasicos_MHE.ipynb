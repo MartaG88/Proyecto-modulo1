{
 "cells": [
  {
   "cell_type": "code",
   "execution_count": 2,
   "metadata": {},
   "outputs": [],
   "source": [
    "import random"
   ]
  },
  {
   "cell_type": "code",
   "execution_count": null,
   "metadata": {},
   "outputs": [],
   "source": [
    "PIEDRA, PAPEL, TIJERA"
   ]
  },
  {
   "cell_type": "code",
   "execution_count": 4,
   "metadata": {},
   "outputs": [
    {
     "name": "stdout",
     "output_type": "stream",
     "text": [
      "El jugador ha elegido: papel\n",
      "La maquina ha elegido: piedra\n",
      "¡Ganaste! 🥳\n"
     ]
    }
   ],
   "source": [
    "#PIEDRA, PAPEL, TIJERA\n",
    "elementos = [\"piedra\", \"papel\",\"tijera\"]\n",
    "\n",
    "jugador = input(f\"Elige :, {elementos}\").lower() #jugador elige su opción, ponemos lower para que siempre sea minúsculas\n",
    "\n",
    "maquina= random.choice(elementos).lower() #Maquina elige su opción\n",
    "\n",
    "print(f\"El jugador ha elegido: {jugador}\")\n",
    "\n",
    "print(f\"La maquina ha elegido: {maquina}\")\n",
    "\n",
    "if jugador == maquina: #si sacan la misma opción, se produce empate y vuelven a jugar.\n",
    "    print(\"Vuelve a jugar: empate\")\n",
    "\n",
    "elif (jugador == 'piedra' and maquina == 'tijera') or \\\n",
    "     (jugador == 'tijera' and maquina == 'papel') or \\\n",
    "     (jugador == 'papel' and maquina == 'piedra'):\n",
    "       \n",
    "    print(\"¡Ganaste! 🥳\") #gana el jugador\n",
    "\n",
    "else:\n",
    "    print(\"Perdiste 🙁 ... Ganó la máquina\") #gana la máquina"
   ]
  },
  {
   "cell_type": "code",
   "execution_count": null,
   "metadata": {},
   "outputs": [],
   "source": [
    "AHORCADO"
   ]
  },
  {
   "cell_type": "code",
   "execution_count": 6,
   "metadata": {},
   "outputs": [
    {
     "name": "stdout",
     "output_type": "stream",
     "text": [
      "Palabra:  _ _ _ _ _\n",
      "Letras usadas: \n",
      "Intentos restantes: 6\n",
      "Palabra:  _a _ _ _\n",
      "Letras usadas: a\n",
      "Intentos restantes: 6\n",
      "Palabra:  _a _ _ _\n",
      "Letras usadas: e, a\n",
      "Intentos restantes: 5\n",
      "Palabra:  _a _ _ _\n",
      "Letras usadas: i, e, a\n",
      "Intentos restantes: 4\n",
      "Palabra:  _a _o _\n",
      "Letras usadas: i, o, e, a\n",
      "Intentos restantes: 4\n",
      "Palabra: da _o _\n",
      "Letras usadas: o, i, e, a, d\n",
      "Intentos restantes: 4\n",
      "Palabra: dato _\n",
      "Letras usadas: o, i, e, t, a, d\n",
      "Intentos restantes: 4\n",
      "¡Felicidades 🤩! Has adivinado la palabra: ✨datos✨\n"
     ]
    }
   ],
   "source": [
    "#AHORCARDO\n",
    "palabras = ['analista', 'datos', 'adalab', 'proyecto']\n",
    "palabra = random.choice(palabras)\n",
    "letras_adivinadas = set()\n",
    "intentos = 6\n",
    "while intentos > 0:\n",
    "    estado_palabra = ''.join(letra if letra in letras_adivinadas else ' _' for letra in palabra)\n",
    "    print(\"Palabra:\", estado_palabra)\n",
    "    print(\"Letras usadas:\", ', '.join(letras_adivinadas))\n",
    "    print(\"Intentos restantes:\", intentos)\n",
    "    \n",
    "    letra = input(\"🤔 Adivina una letra: \").lower()\n",
    "\n",
    "    if letra in letras_adivinadas:\n",
    "        print(\"Ya has adivinado esa letra. Intenta ingresar otra.\")\n",
    "    else:\n",
    "        letras_adivinadas.add(letra)\n",
    "        if letra not in palabra:\n",
    "            intentos -= 1\n",
    "        \n",
    "        if all(letra in letras_adivinadas for letra in palabra):\n",
    "            print(f\"¡Felicidades 🤩! Has adivinado la palabra: ✨{palabra}✨\")\n",
    "            break\n",
    "else:\n",
    "    print(f\"Ya no tienes más intentos 😭. La palabra era: {palabra}\")"
   ]
  },
  {
   "cell_type": "code",
   "execution_count": null,
   "metadata": {},
   "outputs": [],
   "source": [
    "PREGUNTAS Y RESPUESTAS "
   ]
  },
  {
   "cell_type": "code",
   "execution_count": 8,
   "metadata": {},
   "outputs": [],
   "source": [
    "#PREGUNTAS\n",
    "preguntas_geografia = {\n",
    "    \"¿Qué país es conocido por su tradicional danza del tango?\": [\"Argentina\", \"Italia\", \"México\", \"España\"],\n",
    "    \"¿Qué país es famoso por la construcción de las pirámides antiguas?\": [\"Egipto\", \"México\", \"Perú\", \"India\"],\n",
    "    \"¿En qué continente se encuentra Australia?\": [\"Oceanía\", \"Asia\", \"Europa\", \"América del Norte\"],\n",
    "    \"¿Qué país es conocido por su comida picante y su celebración del Día de Muertos?\": [\"México\", \"India\", \"Tailandia\", \"Perú\"],\n",
    "    \"¿En qué ciudad se encuentra el Coliseo?\": [\"Roma\", \"Atenas\", \"París\", \"Londres\"],\n",
    "    \"¿Qué país asiático es famoso por sus templos budistas y su gastronomía callejera?\": [\"Tailandia\", \"Japón\", \"Vietnam\", \"India\"],\n",
    "    \"¿Qué país es famoso por sus castillos medievales y por haber inspirado muchos cuentos de hadas?\": [\"Alemania\", \"Francia\", \"Reino Unido\", \"Italia\"],\n",
    "    \"¿Cuál es la capital de España?\": [\"Madrid\", \"Barcelona\", \"Sevilla\", \"Valencia\"],\n",
    "    \"¿Qué país es conocido por la samba y por albergar el carnaval más grande del mundo?\": [\"Brasil\", \"Argentina\", \"Cuba\", \"Colombia\"],\n",
    "    \"¿Qué país es famoso por la Torre Eiffel?\": [\"Francia\", \"Italia\", \"Reino Unido\", \"Alemania\"],\n",
    "    \"¿Qué isla caribeña es famosa por el reggae y el legado de Bob Marley?\": [\"Jamaica\", \"Puerto Rico\", \"Cuba\", \"República Dominicana\"],\n",
    "    \"¿En qué país se encuentra el monte Kilimanjaro?\": [\"Tanzania\", \"Kenia\", \"Sudáfrica\", \"Etiopía\"],\n",
    "    \"¿Qué país es conocido por la ópera de Sídney?\": [\"Australia\", \"Estados Unidos\", \"Reino Unido\", \"Nueva Zelanda\"],\n",
    "    \"¿Qué país africano tiene el Parque Nacional Serengeti, famoso por sus safaris?\": [\"Tanzania\", \"Sudáfrica\", \"Kenia\", \"Botsuana\"],\n",
    "    \"¿Qué país sudamericano es conocido por el Amazonas y el carnaval de Río?\": [\"Brasil\", \"Perú\", \"Colombia\", \"Argentina\"],\n",
    "    \"¿Cuál es el país más pequeño del mundo?\": [\"Ciudad del Vaticano\", \"Mónaco\", \"San Marino\", \"Malta\"],\n",
    "    \"¿Qué país europeo es conocido por sus chocolates y relojes de precisión?\": [\"Suiza\", \"Bélgica\", \"Alemania\", \"Austria\"],\n",
    "    \"¿Qué país asiático es famoso por el anime y el sushi?\": [\"Japón\", \"China\", \"Corea del Sur\", \"Tailandia\"],\n",
    "    \"¿En qué país se celebran las famosas festividades de la Tomatina?\": [\"España\", \"México\", \"Italia\", \"Francia\"],\n",
    "    \"¿Qué país es conocido por sus bailes de salsa y café?\": [\"Colombia\", \"Cuba\", \"Puerto Rico\", \"Brasil\"],\n",
    "    \"¿Qué país del Medio Oriente es conocido por el desierto y su gran producción de petróleo?\": [\"Arabia Saudita\", \"Irak\", \"Irán\", \"Kuwait\"],\n",
    "    \"¿Qué país tiene como símbolo cultural el Taj Mahal?\": [\"India\", \"Pakistán\", \"Irán\", \"Bangladés\"],\n",
    "    \"¿Qué país africano tiene el mayor número de pirámides en el mundo?\": [\"Sudán\", \"Egipto\", \"Libia\", \"Etiopía\"],\n",
    "    \"¿Qué país es conocido por el festival de cine de Cannes?\": [\"Francia\", \"Italia\", \"Estados Unidos\", \"Reino Unido\"],\n",
    "    \"¿Qué país alberga el famoso templo de Angkor Wat?\": [\"Camboya\", \"Tailandia\", \"Laos\", \"Vietnam\"],\n",
    "    \"¿Qué país sudamericano es conocido por Machu Picchu, una de las maravillas del mundo?\": [\"Perú\", \"Chile\", \"Bolivia\", \"Ecuador\"],\n",
    "    \"¿Qué país tiene una famosa historia de invasiones vikingas y es conocido por sus fiordos?\": [\"Noruega\", \"Suecia\", \"Dinamarca\", \"Finlandia\"],\n",
    "    \"¿Qué país asiático es famoso por sus rascacielos y la antigua Ciudad Prohibida?\": [\"China\", \"Japón\", \"Corea del Sur\", \"Tailandia\"],\n",
    "    \"¿En qué país sudamericano se encuentra el Salar de Uyuni, el mayor desierto de sal del mundo?\": [\"Bolivia\", \"Chile\", \"Argentina\", \"Brasil\"],\n",
    "    \"¿Qué país europeo es famoso por sus molinos de viento y canales?\": [\"Países Bajos (Holanda)\", \"Bélgica\", \"Francia\", \"Alemania\"],\n",
    "    \"¿En qué país africano se celebra el Carnaval de Mindelo, conocido por su vibrante cultura afro-brasileña?\": [\"Cabo Verde\", \"Angola\", \"Mozambique\", \"Guinea-Bisáu\"],\n",
    "    \"¿Qué país africano celebra la fiesta del Gule Wamkulu, una danza tradicional de los chewa?\": [\"Malaui\", \"Zambia\", \"Zimbabue\", \"Tanzania\"],\n",
    "    \"¿Qué mar separa Europa de África?\": [\"Mar Mediterráneo\", \"Mar Rojo\", \"Mar Egeo\", \"Mar Negro\"],\n",
    "    \"¿Qué ciudad alberga la sede de las Naciones Unidas?\": [\"Nueva York\", \"Ginebra\", \"Viena\", \"Bruselas\"],\n",
    "    \"¿Cuál es la capital de la Unión Europea?\": [\"Bruselas\", \"Estrasburgo\", \"Berlín\", \"París\"],\n",
    "    \"¿Qué estrecho separa Europa de Asia en Turquía?\": [\"Estrecho de Bósforo\", \"Estrecho de Gibraltar\", \"Estrecho de Malaca\", \"Estrecho de Dardanelos\"],\n",
    "    \"¿Qué ciudad es considerada la capital financiera de Europa?\": [\"Londres\", \"Fráncfort\", \"París\", \"Zúrich\"],\n",
    "    \"¿Qué país es el principal exportador de trigo del mundo?\": [\"Rusia\", \"Estados Unidos\", \"Canadá\", \"China\"],\n",
    "    \"¿Cuál fue el proceso mediante el cual el Reino Unido dejó la Unión Europea?\": [\"El brexit\", \"La Commonwealth\", \"La OTAN\", \"El Acuerdo de Lisboa\"],\n",
    "    \"¿Qué archipiélago del Atlántico es objeto de disputa territorial entre España y Marruecos?\": [\"Islas Canarias\", \"Islas Baleares\", \"Islas Azores\", \"Cabo Verde\"]\n",
    "}\n",
    "\n",
    "letras_opciones = ['A','B','C','D'] \n",
    "fallos = 3 \n",
    "victorias = 0 "
   ]
  },
  {
   "cell_type": "code",
   "execution_count": 9,
   "metadata": {},
   "outputs": [
    {
     "name": "stdout",
     "output_type": "stream",
     "text": [
      "¿Qué país es conocido por su tradicional danza del tango?\n",
      "A Italia\n",
      "B Argentina\n",
      "C España\n",
      "D México\n",
      "¡La respuesta Argentina es correcta! Sigue así\n",
      "¿Qué país es famoso por la construcción de las pirámides antiguas?\n",
      "A Egipto\n",
      "B India\n",
      "C México\n",
      "D Perú\n",
      "¡La respuesta Egipto es correcta! Sigue así\n",
      "¿En qué continente se encuentra Australia?\n",
      "A Asia\n",
      "B América del Norte\n",
      "C Oceanía\n",
      "D Europa\n",
      "¡La respuesta Oceanía es correcta! Sigue así\n",
      "¿Qué país es conocido por su comida picante y su celebración del Día de Muertos?\n",
      "A Tailandia\n",
      "B México\n",
      "C India\n",
      "D Perú\n",
      "¡La respuesta México es correcta! Sigue así\n",
      "¿En qué ciudad se encuentra el Coliseo?\n",
      "A París\n",
      "B Londres\n",
      "C Atenas\n",
      "D Roma\n",
      "¡La respuesta Roma es correcta! Sigue así\n",
      "¡Has alcanzado 5 victorias! ¡Ganaste el juego! 😎\n"
     ]
    }
   ],
   "source": [
    "#PREGUNTAS Y RESPUESTAS\n",
    "\n",
    "for pregunta, opciones in preguntas_geografia.items(): \n",
    "    respuesta_correcta = opciones[0] #porque nosotras sabemos que la correcta es la primera \n",
    "    random.shuffle(opciones) #para que las respuestas aparezcan en orden aleatorio \n",
    "    print(pregunta) \n",
    "    for x in range(4): #range(4) porque cuatro especifíca el número de respuestas que queremos imprimir \n",
    "        print(letras_opciones[x], opciones[x]) \n",
    "    respuesta_user = input('Selecciona la letra de tu respuesta').upper() \n",
    "    if respuesta_user in letras_opciones:\n",
    "        seleccion_user = letras_opciones.index(respuesta_user) \n",
    "        if opciones[seleccion_user] == respuesta_correcta: \n",
    "            victorias += 1 \n",
    "            print(f'¡La respuesta {respuesta_correcta} es correcta! Sigue así')\n",
    "        else: \n",
    "            fallos -= 1\n",
    "            print(f'Fallaste. La respuesta correcta es {respuesta_correcta}. Te quedan {fallos} fallos.¡Sigue intetándolo!')\n",
    "    if fallos <= 0:\n",
    "        print('Has perdido el juego 😢')\n",
    "        break\n",
    "    if victorias >= 5:\n",
    "        print('¡Has alcanzado 5 victorias! ¡Ganaste el juego! 😎')\n",
    "        break"
   ]
  },
  {
   "cell_type": "code",
   "execution_count": null,
   "metadata": {},
   "outputs": [],
   "source": []
  }
 ],
 "metadata": {
  "kernelspec": {
   "display_name": "Python 3",
   "language": "python",
   "name": "python3"
  },
  "language_info": {
   "codemirror_mode": {
    "name": "ipython",
    "version": 3
   },
   "file_extension": ".py",
   "mimetype": "text/x-python",
   "name": "python",
   "nbconvert_exporter": "python",
   "pygments_lexer": "ipython3",
   "version": "3.9.6"
  }
 },
 "nbformat": 4,
 "nbformat_minor": 2
}
