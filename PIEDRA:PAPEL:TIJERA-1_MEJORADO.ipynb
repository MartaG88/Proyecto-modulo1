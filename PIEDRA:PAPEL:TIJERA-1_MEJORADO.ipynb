{
 "cells": [
  {
   "cell_type": "markdown",
   "metadata": {},
   "source": [
    "-ELEGIR PIEDRA PAPEL O TIJERA"
   ]
  },
  {
   "cell_type": "markdown",
   "metadata": {},
   "source": [
    "DESARROLLO DEL JUEGO:\n",
    "\n",
    "- 2 JUGADORES.\n",
    "- 3 ELEMENTOS A ELEGIR (PIEDRA, PAPEL, TIJERA).\n",
    "- GANA EL JUGADOR QUE TENGA EL ELEMENTO CON MÁS PODER:\n",
    "    \n",
    "    - TIJERAS GANA A PAPEL\n",
    "    - PIEDRA GANA A TIJERA\n",
    "    - PAPEL GANA A PIEDRA\n",
    "    \n",
    "- SI LOS DOS JUGADORES SACAN EL MISMO ELEMENTO, SURGE UN EMPATE, VULVEN A JUGAR\n"
   ]
  },
  {
   "cell_type": "code",
   "execution_count": 15,
   "metadata": {},
   "outputs": [],
   "source": [
    "#Importamos libreria\n",
    "import random"
   ]
  },
  {
   "cell_type": "code",
   "execution_count": 16,
   "metadata": {},
   "outputs": [],
   "source": [
    "#Generamos variable  con lista de elementos(opciones)\n",
    "elementos = [\"piedra\", \"papel\",\"tijera\"]\n"
   ]
  },
  {
   "cell_type": "code",
   "execution_count": 27,
   "metadata": {},
   "outputs": [
    {
     "name": "stdout",
     "output_type": "stream",
     "text": [
      "El jugador ha elegido: piedra\n",
      "La maquina ha elegido: tijera\n",
      "¡Ganaste! 🥳\n"
     ]
    }
   ],
   "source": [
    "jugador = input(f\"Elige :, {elementos}\").lower() #jugador elige su opción, ponemos lower para que siempre sea minúsculas\n",
    "\n",
    "maquina= random.choice(elementos).lower() #Maquina elige su opción\n",
    "\n",
    "print(f\"El jugador ha elegido: {jugador}\")\n",
    "\n",
    "print(f\"La maquina ha elegido: {maquina}\")\n",
    "\n",
    "if jugador == maquina: #si sacan la misma opción, se produce empate y vuelven a jugar.\n",
    "    print(\"Vuelve a jugar: empate\")\n",
    "\n",
    "elif (jugador == 'piedra' and maquina == 'tijera') or \\\n",
    "     (jugador == 'tijera' and maquina == 'papel') or \\\n",
    "     (jugador == 'papel' and maquina == 'piedra'):\n",
    "       \n",
    "    print(\"¡Ganaste! 🥳\") #gana el jugador\n",
    "\n",
    "else:\n",
    "    print(\"Perdiste 🙁 ... Ganó la máquina\") #gana la máquina"
   ]
  }
 ],
 "metadata": {
  "kernelspec": {
   "display_name": "base",
   "language": "python",
   "name": "python3"
  },
  "language_info": {
   "codemirror_mode": {
    "name": "ipython",
    "version": 3
   },
   "file_extension": ".py",
   "mimetype": "text/x-python",
   "name": "python",
   "nbconvert_exporter": "python",
   "pygments_lexer": "ipython3",
   "version": "3.12.4"
  }
 },
 "nbformat": 4,
 "nbformat_minor": 2
}
