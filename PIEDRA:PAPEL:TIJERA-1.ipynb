{
 "cells": [
  {
   "cell_type": "markdown",
   "metadata": {},
   "source": [
    "-ELEGIR PIEDRA PAPEL O TIJERA"
   ]
  },
  {
   "cell_type": "code",
   "execution_count": 14,
   "metadata": {},
   "outputs": [],
   "source": [
    "#Importamos libreria\n",
    "import random"
   ]
  },
  {
   "cell_type": "code",
   "execution_count": 15,
   "metadata": {},
   "outputs": [],
   "source": [
    "elementos = [\"piedra\", \"papel\",\"tijera\"]\n",
    "#generamos variable  con lista de elementos(opciones)"
   ]
  },
  {
   "cell_type": "code",
   "execution_count": 39,
   "metadata": {},
   "outputs": [
    {
     "name": "stdout",
     "output_type": "stream",
     "text": [
      "el jugador ha elegido:papel\n",
      "la maquina ha elegido: papel\n"
     ]
    }
   ],
   "source": [
    "jugador = input(f\"Elige :, {elementos}\")#Preguntamos opcion al jugador\n",
    "maquina= random.choice(elementos)#Maquina elige su opcion\n",
    "print(f\"el jugador ha elegido:{jugador}\")\n",
    "print(f\"la maquina ha elegido: {maquina}\")\n"
   ]
  },
  {
   "cell_type": "code",
   "execution_count": 42,
   "metadata": {},
   "outputs": [
    {
     "name": "stdout",
     "output_type": "stream",
     "text": [
      "Vuelve a jugar:  empate\n"
     ]
    }
   ],
   "source": [
    "if jugador == maquina :  #jugador y maquina eligen mismo elemento\n",
    "    print(\"Vuelve a jugar:  empate\")\n",
    "elif(jugador == \"piedra\" and maquina == \"tijera\")or \\   \n",
    "    (jugador == \"papel\" and maquina == \"piedra\") or \\\n",
    "    (jugador== \"tijera\" and maquina == \"papel\"):\n",
    "    print(\"ganaste\")\n",
    "else:\n",
    "    print(\"Perdiste ...gano la maquina\")\n",
    "    \n",
    "#(elif)posibles opciones que se dan para que no sea empate.\n",
    "#(else) no se da ninguna opcion IF/ELIF GANA LA MAQUINA\n",
    "\n",
    "#Nota: (cuando tengamos almenos 2 juegos o los 3, añadir mejora de codigo(dando opcion a tener 5 vidas y hasta que no ganas 5 veces no ganas)\n"
   ]
  }
 ],
 "metadata": {
  "kernelspec": {
   "display_name": "base",
   "language": "python",
   "name": "python3"
  },
  "language_info": {
   "codemirror_mode": {
    "name": "ipython",
    "version": 3
   },
   "file_extension": ".py",
   "mimetype": "text/x-python",
   "name": "python",
   "nbconvert_exporter": "python",
   "pygments_lexer": "ipython3",
   "version": "3.11.7"
  }
 },
 "nbformat": 4,
 "nbformat_minor": 2
}
