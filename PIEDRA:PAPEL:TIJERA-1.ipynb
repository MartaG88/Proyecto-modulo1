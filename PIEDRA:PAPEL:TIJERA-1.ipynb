{
 "cells": [
  {
   "cell_type": "markdown",
   "metadata": {},
   "source": [
    "-ELEGIR PIEDRA PAPEL O TIJERA"
   ]
  },
  {
   "cell_type": "code",
   "execution_count": 14,
   "metadata": {},
   "outputs": [],
   "source": [
    "#Importamos libreria\n",
    "import random"
   ]
  },
  {
   "cell_type": "code",
   "execution_count": 15,
   "metadata": {},
   "outputs": [],
   "source": [
    "#Generamos variable  con lista de elementos(opciones)\n",
    "elementos = [\"piedra\", \"papel\",\"tijera\"]\n"
   ]
  },
  {
   "cell_type": "code",
   "execution_count": 19,
   "metadata": {},
   "outputs": [
    {
     "name": "stdout",
     "output_type": "stream",
     "text": [
      "El jugador ha elegido: papel\n",
      "La maquina ha elegido: tijera\n",
      "Perdiste ☹️... Ganó la máquina\n"
     ]
    }
   ],
   "source": [
    "jugador = input(f\"Elige :, {elementos}\")#Preguntamos opcion al jugador\n",
    "maquina= random.choice(elementos).lower() #Maquina elige su opcion\n",
    "print(f\"El jugador ha elegido: {jugador}\")\n",
    "print(f\"La maquina ha elegido: {maquina}\")\n",
    "\n",
    "if jugador == maquina:\n",
    "    print(\"Vuelve a jugar: empate\")\n",
    "elif (jugador, maquina) in [(\"piedra\", \"tijera\"), (\"papel\", \"piedra\"), (\"tijera\", \"papel\")]:\n",
    "    print(\"¡Ganaste! 🥳\")\n",
    "else:\n",
    "    print(\"Perdiste 🙁 ... Ganó la máquina\")\n",
    "\n",
    "    \n",
    "#(elif)posibles opciones que se dan para que no sea empate.\n",
    "#(else) no se da ninguna opcion IF/ELIF GANA LA MAQUINA\n",
    "\n",
    "#Nota: (cuando tengamos almenos 2 juegos o los 3, añadir mejora de codigo(dando opcion a tener 5 vidas y hasta que no ganas 5 veces no ganas)\n"
   ]
  }
 ],
 "metadata": {
  "kernelspec": {
   "display_name": "base",
   "language": "python",
   "name": "python3"
  },
  "language_info": {
   "codemirror_mode": {
    "name": "ipython",
    "version": 3
   },
   "file_extension": ".py",
   "mimetype": "text/x-python",
   "name": "python",
   "nbconvert_exporter": "python",
   "pygments_lexer": "ipython3",
   "version": "3.12.6"
  }
 },
 "nbformat": 4,
 "nbformat_minor": 2
}
