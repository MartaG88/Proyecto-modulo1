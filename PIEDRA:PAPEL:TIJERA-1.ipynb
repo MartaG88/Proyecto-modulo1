{
 "cells": [
  {
   "cell_type": "markdown",
   "metadata": {},
   "source": [
    "-ELEGIR PIEDRA PAPEL O TIJERA"
   ]
  },
  {
   "cell_type": "code",
   "execution_count": 4,
   "metadata": {},
   "outputs": [],
   "source": [
    "#Importamos libreria\n",
    "import random"
   ]
  },
  {
   "cell_type": "code",
   "execution_count": 3,
   "metadata": {},
   "outputs": [],
   "source": [
    "#Generamos variable  con lista de elementos(opciones)\n",
    "elementos = [\"piedra\", \"papel\",\"tijera\"]\n"
   ]
  },
  {
   "cell_type": "code",
   "execution_count": 5,
   "metadata": {},
   "outputs": [
    {
     "name": "stdout",
     "output_type": "stream",
     "text": [
      "El jugador ha elegido: piedra\n",
      "La maquina ha elegido: papel\n",
      "Perdiste 🙁 ... Ganó la máquina\n"
     ]
    }
   ],
   "source": [
    "jugador = input(f\"Elige :, {elementos}\")#Preguntamos opcion al jugador\n",
    "maquina= random.choice(elementos).lower() #Maquina elige su opcion\n",
    "print(f\"El jugador ha elegido: {jugador}\")\n",
    "print(f\"La maquina ha elegido: {maquina}\")\n",
    "\n",
    "if jugador == maquina:\n",
    "    print(\"Vuelve a jugar: empate\")\n",
    "elif (jugador, maquina) in [(\"piedra\", \"tijera\"), (\"papel\", \"piedra\"), (\"tijera\", \"papel\")]:\n",
    "    print(\"¡Ganaste! 🥳\")\n",
    "else:\n",
    "    print(\"Perdiste 🙁 ... Ganó la máquina\")\n",
    "\n",
    "    \n",
    "#(elif)posibles opciones que se dan para que no sea empate.\n",
    "#(else) no se da ninguna opcion IF/ELIF GANA LA MAQUINA\n",
    "\n",
    "#Nota: (cuando tengamos almenos 2 juegos o los 3, añadir mejora de codigo(dando opcion a tener 5 vidas y hasta que no ganas 5 veces no ganas)\n"
   ]
  },
  {
   "cell_type": "code",
   "execution_count": 4,
   "metadata": {},
   "outputs": [],
   "source": [
    "import random"
   ]
  },
  {
   "cell_type": "code",
   "execution_count": 13,
   "metadata": {},
   "outputs": [
    {
     "name": "stdout",
     "output_type": "stream",
     "text": [
      "El jugador ha elegido: \n",
      "La maquina ha elegido: tijera\n",
      "Perdiste 🙁 ... Ganó la máquina\n"
     ]
    }
   ],
   "source": [
    "#creamos un diccionario con las reglas para que el elif haga la elección automática de las opciones\n",
    "reglas = {(\"piedra\",\"tijera\"):\"ganaste\",(\"tijera\",\"papel\"):\"ganaste\",(\"papel\",\"piedra\"):\"ganaste\"} \n",
    "\n",
    "#Preguntamos opcion al jugador\n",
    "jugador = input(f\"Elige :, {elementos}\")\n",
    "\n",
    "#Maquina elige su opcion aleatoria -random.choice-, añadimos lower para que el programa lea indeferentemente mayúsculas y minúsculas\n",
    "maquina= random.choice(elementos).lower() \n",
    "\n",
    "#impresión de los resultados de ambas partes\n",
    "print(f\"El jugador ha elegido: {jugador}\")\n",
    "print(f\"La maquina ha elegido: {maquina}\")\n",
    "\n",
    "#si(if) el jugador y la máquina tiene el mismo resultado = empate; \n",
    "#si jugador > maquina (elif) = gana jugador; \n",
    "#si maquina > jugador (else) = gana máquina\n",
    "if jugador == maquina:\n",
    "    print(\"Vuelve a jugar: empate\")\n",
    "elif (jugador, maquina) in reglas:\n",
    "    print(\"¡Ganaste! 🥳\")\n",
    "else:\n",
    "    print(\"Perdiste 🙁 ... Ganó la máquina\")"
   ]
  },
  {
   "cell_type": "code",
   "execution_count": null,
   "metadata": {},
   "outputs": [],
   "source": [
    "#qué tal si el PPT se aplica un diccionario donde value == respuesta es 'empate'\n",
    "#se podría hacer un if respuesta = key 'gana maquina'"
   ]
  },
  {
   "cell_type": "code",
   "execution_count": null,
   "metadata": {},
   "outputs": [],
   "source": [
    "reglas2 = {(\"piedra\",\"tijera\"):\"ganaste\",(\"tijera\",\"papel\"):\"ganaste\",(\"papel\",\"piedra\"):\"ganaste\"} #creamos un diccionario con las reglas para que el elif haga la elección automática de las opciones\n",
    "jugador = input(f\"Elige :, {elementos}\")#Preguntamos opcion al jugador\n",
    "maquina= random.choice(elementos).lower() #Maquina elige su opcion\n",
    "print(f\"El jugador ha elegido: {jugador}\")\n",
    "print(f\"La maquina ha elegido: {maquina}\")\n",
    "\n",
    "if jugador == maquina:\n",
    "    print(\"Vuelve a jugar: empate\")\n",
    "elif (jugador, maquina) in reglas:\n",
    "    print(\"¡Ganaste! 🥳\")\n",
    "else:\n",
    "    print(\"Perdiste 🙁 ... Ganó la máquina\")"
   ]
  }
 ],
 "metadata": {
  "kernelspec": {
   "display_name": "base",
   "language": "python",
   "name": "python3"
  },
  "language_info": {
   "codemirror_mode": {
    "name": "ipython",
    "version": 3
   },
   "file_extension": ".py",
   "mimetype": "text/x-python",
   "name": "python",
   "nbconvert_exporter": "python",
   "pygments_lexer": "ipython3",
   "version": "3.9.6"
  }
 },
 "nbformat": 4,
 "nbformat_minor": 2
}
